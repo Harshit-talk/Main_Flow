{
  "nbformat": 4,
  "nbformat_minor": 0,
  "metadata": {
    "colab": {
      "provenance": []
    },
    "kernelspec": {
      "name": "python3",
      "display_name": "Python 3"
    },
    "language_info": {
      "name": "python"
    }
  },
  "cells": [
    {
      "cell_type": "markdown",
      "source": [
        "# **List**"
      ],
      "metadata": {
        "id": "WUkK7ZfwZR7v"
      }
    },
    {
      "cell_type": "code",
      "execution_count": 1,
      "metadata": {
        "colab": {
          "base_uri": "https://localhost:8080/"
        },
        "id": "jx1L2QBohcuD",
        "outputId": "695f8941-2895-4834-84d4-442c77b52f50"
      },
      "outputs": [
        {
          "output_type": "execute_result",
          "data": {
            "text/plain": [
              "[11, 25, 5, 15, 2, 'Ajay', 'Bijay', 'Chandani']"
            ]
          },
          "metadata": {},
          "execution_count": 1
        }
      ],
      "source": [
        "list = [11,25,5,15,2,\"Ajay\",\"Bijay\",\"Chandani\"]   #Creating list\n",
        "list"
      ]
    },
    {
      "cell_type": "code",
      "source": [
        "list.append(\"Dinesh\") #Adding element in list using append() function.\n",
        "list"
      ],
      "metadata": {
        "colab": {
          "base_uri": "https://localhost:8080/"
        },
        "id": "Ei2gedYRh6GM",
        "outputId": "0ef817db-94f1-4821-f57f-d7ffd9fdea94"
      },
      "execution_count": 2,
      "outputs": [
        {
          "output_type": "execute_result",
          "data": {
            "text/plain": [
              "[11, 25, 5, 15, 2, 'Ajay', 'Bijay', 'Chandani', 'Dinesh']"
            ]
          },
          "metadata": {},
          "execution_count": 2
        }
      ]
    },
    {
      "cell_type": "code",
      "source": [
        "list.remove(\"Ajay\")  #Removing Element from list\n",
        "list"
      ],
      "metadata": {
        "colab": {
          "base_uri": "https://localhost:8080/"
        },
        "id": "7sIRjZkeiZ-L",
        "outputId": "cd9d9261-fbb2-4349-b55b-b25b4b57d348"
      },
      "execution_count": 3,
      "outputs": [
        {
          "output_type": "execute_result",
          "data": {
            "text/plain": [
              "[11, 25, 5, 15, 2, 'Bijay', 'Chandani', 'Dinesh']"
            ]
          },
          "metadata": {},
          "execution_count": 3
        }
      ]
    },
    {
      "cell_type": "code",
      "source": [
        "list1 = [25,10,2,75,39,23,21,8,30]\n",
        "list1.sort()  #Sorting the list\n",
        "list1"
      ],
      "metadata": {
        "colab": {
          "base_uri": "https://localhost:8080/"
        },
        "id": "0XLf8q4giizO",
        "outputId": "e85bc5fb-2325-4279-9ed9-0884ff393e27"
      },
      "execution_count": 4,
      "outputs": [
        {
          "output_type": "execute_result",
          "data": {
            "text/plain": [
              "[2, 8, 10, 21, 23, 25, 30, 39, 75]"
            ]
          },
          "metadata": {},
          "execution_count": 4
        }
      ]
    },
    {
      "cell_type": "code",
      "source": [
        "list2 = [1,2,3,4,5,6,7,8,9,10]\n",
        "list2.reverse()   #Reversing the list\n",
        "list2"
      ],
      "metadata": {
        "colab": {
          "base_uri": "https://localhost:8080/"
        },
        "id": "ESF_CXB0jIMI",
        "outputId": "69124efd-3546-4f40-e631-04a59c4dd80f"
      },
      "execution_count": 5,
      "outputs": [
        {
          "output_type": "execute_result",
          "data": {
            "text/plain": [
              "[10, 9, 8, 7, 6, 5, 4, 3, 2, 1]"
            ]
          },
          "metadata": {},
          "execution_count": 5
        }
      ]
    },
    {
      "cell_type": "code",
      "source": [
        "list2.clear() #Remove all the elements from the list.\n",
        "list2"
      ],
      "metadata": {
        "colab": {
          "base_uri": "https://localhost:8080/"
        },
        "id": "zsnt8QRWjstM",
        "outputId": "35a89bda-c00e-49ec-c587-fb5df20a2d8f"
      },
      "execution_count": 6,
      "outputs": [
        {
          "output_type": "execute_result",
          "data": {
            "text/plain": [
              "[]"
            ]
          },
          "metadata": {},
          "execution_count": 6
        }
      ]
    },
    {
      "cell_type": "markdown",
      "source": [
        "# **Dictionary**"
      ],
      "metadata": {
        "id": "3xbthUCNZMwo"
      }
    },
    {
      "cell_type": "code",
      "source": [
        "dict = {\n",
        "    \"A001\" : \"Ajay\",\n",
        "    \"B001\" : \"Bijay\",\n",
        "    \"C001\"  : \"Chandani\",\n",
        "    \"D001\"  : \"Dinesh\"\n",
        "}\n",
        "dict"
      ],
      "metadata": {
        "colab": {
          "base_uri": "https://localhost:8080/"
        },
        "id": "tiwBBiHaj6Mc",
        "outputId": "eb4de51e-09b0-4a2f-9560-d1ad9ade079b"
      },
      "execution_count": 7,
      "outputs": [
        {
          "output_type": "execute_result",
          "data": {
            "text/plain": [
              "{'A001': 'Ajay', 'B001': 'Bijay', 'C001': 'Chandani', 'D001': 'Dinesh'}"
            ]
          },
          "metadata": {},
          "execution_count": 7
        }
      ]
    },
    {
      "cell_type": "code",
      "source": [
        "dict[\"E001\"]=\"Fatima\"   #Adding new element in existing dictionary\n",
        "dict"
      ],
      "metadata": {
        "colab": {
          "base_uri": "https://localhost:8080/"
        },
        "id": "riplFxhQkpfH",
        "outputId": "d9577495-f197-46a6-d996-487b712dec65"
      },
      "execution_count": 8,
      "outputs": [
        {
          "output_type": "execute_result",
          "data": {
            "text/plain": [
              "{'A001': 'Ajay',\n",
              " 'B001': 'Bijay',\n",
              " 'C001': 'Chandani',\n",
              " 'D001': 'Dinesh',\n",
              " 'E001': 'Fatima'}"
            ]
          },
          "metadata": {},
          "execution_count": 8
        }
      ]
    },
    {
      "cell_type": "code",
      "source": [
        "dict.update({\"F001\": \"Farookh\",\"G001\":\"Gautam\"})  #Adding multiple elements in existing dictionary\n",
        "dict"
      ],
      "metadata": {
        "colab": {
          "base_uri": "https://localhost:8080/"
        },
        "id": "jvF1rdelM4gv",
        "outputId": "79d3cf41-db0d-4374-d9f6-b6c487f168ac"
      },
      "execution_count": 10,
      "outputs": [
        {
          "output_type": "execute_result",
          "data": {
            "text/plain": [
              "{'A001': 'Ajay',\n",
              " 'B001': 'Bijay',\n",
              " 'C001': 'Chandani',\n",
              " 'D001': 'Dinesh',\n",
              " 'E001': 'Fatima',\n",
              " 'F001': 'Farookh',\n",
              " 'G001': 'Gautam'}"
            ]
          },
          "metadata": {},
          "execution_count": 10
        }
      ]
    },
    {
      "cell_type": "code",
      "source": [
        "del dict[\"G001\"]  #Removing element from the existing dictionary by key.\n",
        "dict"
      ],
      "metadata": {
        "colab": {
          "base_uri": "https://localhost:8080/"
        },
        "id": "_jsFc5ZENqPi",
        "outputId": "33c4e7b9-9781-474d-c7d9-1e0cb23b0f3a"
      },
      "execution_count": 11,
      "outputs": [
        {
          "output_type": "execute_result",
          "data": {
            "text/plain": [
              "{'A001': 'Ajay',\n",
              " 'B001': 'Bijay',\n",
              " 'C001': 'Chandani',\n",
              " 'D001': 'Dinesh',\n",
              " 'E001': 'Fatima',\n",
              " 'F001': 'Farookh'}"
            ]
          },
          "metadata": {},
          "execution_count": 11
        }
      ]
    },
    {
      "cell_type": "code",
      "source": [
        "dict.popitem()  #Removing last element from the the exiting dictionary.\n",
        "dict"
      ],
      "metadata": {
        "colab": {
          "base_uri": "https://localhost:8080/"
        },
        "id": "GDnmAXX4WCXl",
        "outputId": "240237b9-d439-47be-8baa-b616cd73dfd8"
      },
      "execution_count": 13,
      "outputs": [
        {
          "output_type": "execute_result",
          "data": {
            "text/plain": [
              "{'A001': 'Abhinav',\n",
              " 'B001': 'Bijay',\n",
              " 'C001': 'Chandani',\n",
              " 'D001': 'Dinesh',\n",
              " 'E001': 'Fatima'}"
            ]
          },
          "metadata": {},
          "execution_count": 13
        }
      ]
    },
    {
      "cell_type": "code",
      "source": [
        "dict[\"A001\"]=\"Abhinav\"  #Modifying element from the existing dictionary\n",
        "dict"
      ],
      "metadata": {
        "colab": {
          "base_uri": "https://localhost:8080/"
        },
        "id": "xrROvMYVNc_W",
        "outputId": "d88216a4-a1aa-4e49-9282-f5cee33dec31"
      },
      "execution_count": 12,
      "outputs": [
        {
          "output_type": "execute_result",
          "data": {
            "text/plain": [
              "{'A001': 'Abhinav',\n",
              " 'B001': 'Bijay',\n",
              " 'C001': 'Chandani',\n",
              " 'D001': 'Dinesh',\n",
              " 'E001': 'Fatima',\n",
              " 'F001': 'Farookh'}"
            ]
          },
          "metadata": {},
          "execution_count": 12
        }
      ]
    },
    {
      "cell_type": "markdown",
      "source": [
        "# **SET**"
      ],
      "metadata": {
        "id": "WNOD1l18ZGi-"
      }
    },
    {
      "cell_type": "code",
      "source": [
        "set = {1,2,3,4,5,}    #Creating set.\n",
        "set"
      ],
      "metadata": {
        "colab": {
          "base_uri": "https://localhost:8080/"
        },
        "id": "0jU76ICPVkLe",
        "outputId": "ab487621-3343-473c-ffc8-1f38941b6524"
      },
      "execution_count": 14,
      "outputs": [
        {
          "output_type": "execute_result",
          "data": {
            "text/plain": [
              "{1, 2, 3, 4, 5}"
            ]
          },
          "metadata": {},
          "execution_count": 14
        }
      ]
    },
    {
      "cell_type": "code",
      "source": [
        "set.add(6)  #Adding element in set.\n",
        "set"
      ],
      "metadata": {
        "colab": {
          "base_uri": "https://localhost:8080/"
        },
        "id": "0QAfmGskXt9W",
        "outputId": "aea25870-640a-42f7-b85b-b721bb5bc999"
      },
      "execution_count": 15,
      "outputs": [
        {
          "output_type": "execute_result",
          "data": {
            "text/plain": [
              "{1, 2, 3, 4, 5, 6}"
            ]
          },
          "metadata": {},
          "execution_count": 15
        }
      ]
    },
    {
      "cell_type": "code",
      "source": [
        "set.pop()   #Removing first element from set.\n",
        "set"
      ],
      "metadata": {
        "colab": {
          "base_uri": "https://localhost:8080/"
        },
        "id": "GmOb9K3OZE69",
        "outputId": "7dc5e890-16b9-4155-8041-0ad593c69d66"
      },
      "execution_count": 16,
      "outputs": [
        {
          "output_type": "execute_result",
          "data": {
            "text/plain": [
              "{2, 3, 4, 5, 6}"
            ]
          },
          "metadata": {},
          "execution_count": 16
        }
      ]
    },
    {
      "cell_type": "code",
      "source": [
        "set.remove(3) #Removing 6 from set.\n",
        "set"
      ],
      "metadata": {
        "colab": {
          "base_uri": "https://localhost:8080/"
        },
        "id": "MC8SZ-zDZiU-",
        "outputId": "cd1f596d-3eed-482c-c620-7362a2d458d8"
      },
      "execution_count": 17,
      "outputs": [
        {
          "output_type": "execute_result",
          "data": {
            "text/plain": [
              "{2, 4, 5, 6}"
            ]
          },
          "metadata": {},
          "execution_count": 17
        }
      ]
    },
    {
      "cell_type": "code",
      "source": [
        "set1 = {1,2,3,4,5}\n",
        "set2 = {6,2,8,4,9}\n",
        "\n",
        "union_set = set1.union(set2)  #Merging two set together. This will remove repeating number.\n",
        "union_set"
      ],
      "metadata": {
        "colab": {
          "base_uri": "https://localhost:8080/"
        },
        "id": "rmwOHJBmaAgR",
        "outputId": "ac5c5558-3cff-4f7b-c580-c8ec761f93e1"
      },
      "execution_count": 18,
      "outputs": [
        {
          "output_type": "execute_result",
          "data": {
            "text/plain": [
              "{1, 2, 3, 4, 5, 6, 8, 9}"
            ]
          },
          "metadata": {},
          "execution_count": 18
        }
      ]
    },
    {
      "cell_type": "code",
      "source": [
        "intersection_set = set1.intersection(set2)  #Intersection\n",
        "intersection_set"
      ],
      "metadata": {
        "colab": {
          "base_uri": "https://localhost:8080/"
        },
        "id": "pvnIBHQ2a9wy",
        "outputId": "bfc6c88d-96d4-4de4-b108-8abacd2cdf5d"
      },
      "execution_count": 19,
      "outputs": [
        {
          "output_type": "execute_result",
          "data": {
            "text/plain": [
              "{2, 4}"
            ]
          },
          "metadata": {},
          "execution_count": 19
        }
      ]
    },
    {
      "cell_type": "code",
      "source": [
        "difference_set = set1.difference(set2)  #Difference\n",
        "difference_set"
      ],
      "metadata": {
        "colab": {
          "base_uri": "https://localhost:8080/"
        },
        "id": "6GQSrHc6b7Gh",
        "outputId": "415d33be-aa8a-4eee-97a5-0c4ff4c353f3"
      },
      "execution_count": 20,
      "outputs": [
        {
          "output_type": "execute_result",
          "data": {
            "text/plain": [
              "{1, 3, 5}"
            ]
          },
          "metadata": {},
          "execution_count": 20
        }
      ]
    },
    {
      "cell_type": "code",
      "source": [
        "set3 = set1.copy() #Copy set1 in set3\n",
        "set3"
      ],
      "metadata": {
        "colab": {
          "base_uri": "https://localhost:8080/"
        },
        "id": "8pE2YiBPc8U8",
        "outputId": "b29a92ac-a4c0-43e8-b0f3-924367f72e07"
      },
      "execution_count": 22,
      "outputs": [
        {
          "output_type": "execute_result",
          "data": {
            "text/plain": [
              "{1, 2, 3, 4, 5}"
            ]
          },
          "metadata": {},
          "execution_count": 22
        }
      ]
    },
    {
      "cell_type": "code",
      "source": [],
      "metadata": {
        "id": "jyh-sI9id1Nh"
      },
      "execution_count": null,
      "outputs": []
    }
  ]
}